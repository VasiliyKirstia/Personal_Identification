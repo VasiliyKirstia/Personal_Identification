{
 "cells": [
  {
   "cell_type": "code",
   "execution_count": 25,
   "metadata": {
    "collapsed": false
   },
   "outputs": [],
   "source": [
    "from db_provider import Provider\n",
    "\n",
    "from utils import get_inputs_sequence\n",
    "import matplotlib.pyplot as plt\n",
    "%matplotlib inline\n",
    "\n",
    "provider = Provider(\"database/research_db.sqlite3\")\n",
    "\n",
    "subjects = provider.get_all_subjects()\n",
    "inputs_sequence_dict = dict()\n",
    "\n",
    "for subject in subjects:\n",
    "    inputs_sequence_dict[subject] = get_inputs_sequence(\n",
    "        provider.get_all_units_by_subject_id(\n",
    "            subject\n",
    "        ), is_raw=True\n",
    "    )"
   ]
  },
  {
   "cell_type": "code",
   "execution_count": 26,
   "metadata": {
    "collapsed": false
   },
   "outputs": [],
   "source": [
    "from chapter_one.utils import get_inner_distance_sequence_from_messages_sequence\n",
    "\n",
    "inner_distance_dict = dict()\n",
    "\n",
    "for subject in subjects:\n",
    "    inner_distance_dict[subject] = get_inner_distance_sequence_from_messages_sequence(\n",
    "        provider.get_messages_by_subject_id(\n",
    "            subject\n",
    "        )\n",
    "    )"
   ]
  },
  {
   "cell_type": "code",
   "execution_count": 27,
   "metadata": {
    "collapsed": false
   },
   "outputs": [],
   "source": [
    "frequency_taps = dict()              # общие частоты нажатий клавишь {{key:frequency}}\n",
    "for subject in subjects:\n",
    "    for input_item in  inputs_sequence_dict[subject]:\n",
    "        if input_item.key_code in frequency_taps.keys():\n",
    "            frequency_taps[input_item.key_code] += 1\n",
    "        else:\n",
    "            frequency_taps[input_item.key_code] = 1\n",
    "\n",
    "taps_count = float( sum( frequency_taps.values() ) )\n",
    "for key_code in frequency_taps.keys():\n",
    "    frequency_taps[key_code] = float(frequency_taps[key_code])/taps_count"
   ]
  },
  {
   "cell_type": "code",
   "execution_count": 28,
   "metadata": {
    "collapsed": true
   },
   "outputs": [],
   "source": [
    "frequency_taps_for_subjects = dict() # частоты нажатий клавишь для каждого субъекта {subj:{key:frequency}}\n",
    "for subject in subjects:\n",
    "    frequency_taps_for_subjects[subject] = dict()\n",
    "    for input_item in  inputs_sequence_dict[subject]:\n",
    "        if input_item.key_code in frequency_taps_for_subjects[subject].keys():\n",
    "            frequency_taps_for_subjects[subject][input_item.key_code] += 1\n",
    "        else:\n",
    "            frequency_taps_for_subjects[subject][input_item.key_code] = 1\n",
    "\n",
    "for subject in subjects:\n",
    "    taps_count = float(len(inputs_sequence_dict[subject]))\n",
    "    for key_code in frequency_taps_for_subjects[subject]:\n",
    "        frequency_taps_for_subjects[subject][key_code] = float(frequency_taps_for_subjects[subject][key_code])/taps_count"
   ]
  },
  {
   "cell_type": "code",
   "execution_count": 29,
   "metadata": {
    "collapsed": false
   },
   "outputs": [],
   "source": [
    "most_popular_keys = sorted(frequency_taps, key=lambda k: frequency_taps[k])[-1:-16:-1]\n",
    "most_active_subjects=[1,3,4]"
   ]
  },
  {
   "cell_type": "code",
   "execution_count": 30,
   "metadata": {
    "collapsed": false
   },
   "outputs": [
    {
     "name": "stdout",
     "output_type": "stream",
     "text": [
      "41\n"
     ]
    }
   ],
   "source": [
    "subject_key_time_dict = dict() #словарь следующего вида {subject: {key: time}}\n",
    "for subject in most_active_subjects:\n",
    "    subject_key_time_dict[subject] = dict()\n",
    "    for ind in inner_distance_dict[subject]:\n",
    "        if ind.key_code in most_popular_keys:\n",
    "            if ind.key_code not in subject_key_time_dict[subject].keys():\n",
    "                subject_key_time_dict[subject][ind.key_code] = list()\n",
    "            subject_key_time_dict[subject][ind.key_code].append(ind.distance)\n",
    "min_len = list()\n",
    "for key in subject_key_time_dict.keys():\n",
    "    for _key in subject_key_time_dict[key].keys():\n",
    "        min_len.append(len(subject_key_time_dict[key][_key]))\n",
    "min_len = min(min_len) # сделал так, потому что могу.\n",
    "print(min_len)\n",
    "\n",
    "features = list()\n",
    "labels = list()\n",
    "for subject in subject_key_time_dict.keys():\n",
    "    for i in range(min_len):\n",
    "        sample = list()\n",
    "        for key_code in most_popular_keys:\n",
    "            sample.append(subject_key_time_dict[subject][key_code][i])\n",
    "        features.append(sample)\n",
    "        labels.append(subject)"
   ]
  },
  {
   "cell_type": "code",
   "execution_count": 31,
   "metadata": {
    "collapsed": false
   },
   "outputs": [
    {
     "data": {
      "text/plain": [
       "0.86266666666666669"
      ]
     },
     "execution_count": 31,
     "metadata": {},
     "output_type": "execute_result"
    }
   ],
   "source": [
    "from matplotlib import pyplot as plt\n",
    "%matplotlib inline\n",
    "\n",
    "import numpy as np\n",
    "from sklearn.neighbors import KNeighborsClassifier\n",
    "from sklearn.cross_validation import KFold\n",
    "\n",
    "from sklearn.pipeline import Pipeline\n",
    "from sklearn.preprocessing import StandardScaler\n",
    "\n",
    "features = np.array(features, dtype='float64')\n",
    "labels = np.array(labels)\n",
    "\n",
    "classifier = KNeighborsClassifier(n_neighbors=3)\n",
    "classifier = Pipeline([('norm', StandardScaler()), ('knn', classifier)])\n",
    "\n",
    "means = list()\n",
    "kf = KFold(len(features), n_folds=5, shuffle=True)\n",
    "for training, testing in kf:\n",
    "    classifier.fit(features[training], labels[training])\n",
    "    prediction = classifier.predict(features[testing])\n",
    "    means.append( np.mean(prediction==labels[testing]) )\n",
    "np.mean(means)"
   ]
  },
  {
   "cell_type": "code",
   "execution_count": 32,
   "metadata": {
    "collapsed": false
   },
   "outputs": [
    {
     "data": {
      "text/plain": [
       "0.95099999999999996"
      ]
     },
     "execution_count": 32,
     "metadata": {},
     "output_type": "execute_result"
    }
   ],
   "source": [
    "from sklearn.svm import SVC\n",
    "\n",
    "classifier = SVC()\n",
    "classifier = Pipeline([('norm', StandardScaler()), ('knn', classifier)])\n",
    "\n",
    "means = list()\n",
    "kf = KFold(len(features), n_folds=5, shuffle=True)\n",
    "for training, testing in kf:\n",
    "    classifier.fit(features[training], labels[training])\n",
    "    prediction = classifier.predict(features[testing])\n",
    "    means.append( np.mean(prediction==labels[testing]) )\n",
    "np.mean(means)"
   ]
  },
  {
   "cell_type": "markdown",
   "metadata": {},
   "source": [
    "## Теперь задержки типа отпускание нажатие."
   ]
  },
  {
   "cell_type": "code",
   "execution_count": 104,
   "metadata": {
    "collapsed": false
   },
   "outputs": [],
   "source": [
    "from chapter_one.utils import get_outer_distance_sequence_from_messages_sequence\n",
    "keys_number = 250\n",
    "\n",
    "outer_distance_sequence_dict = dict()\n",
    "\n",
    "for subject in subjects:\n",
    "    outer_distance_sequence_dict[subject] = get_outer_distance_sequence_from_messages_sequence(\n",
    "        provider.get_messages_by_subject_id(\n",
    "            subject\n",
    "        )\n",
    "    )"
   ]
  },
  {
   "cell_type": "code",
   "execution_count": 105,
   "metadata": {
    "collapsed": false
   },
   "outputs": [],
   "source": [
    "frequency_sharing = dict()\n",
    "\n",
    "for subject in subjects:\n",
    "    for outer_dist in outer_distance_sequence_dict[subject]:\n",
    "        id_od = outer_dist.key_code_from * keys_number + outer_dist.key_code_to\n",
    "        if id_od in frequency_sharing.keys():\n",
    "            frequency_sharing[id_od] += 1\n",
    "        else:\n",
    "            frequency_sharing[id_od] = 1\n",
    "sharding_count = float(sum(frequency_sharing.values()))\n",
    "for key in frequency_sharing.keys():\n",
    "    frequency_sharing[key] = float(frequency_sharing[key])/sharding_count"
   ]
  },
  {
   "cell_type": "code",
   "execution_count": 108,
   "metadata": {
    "collapsed": false
   },
   "outputs": [],
   "source": [
    "most_popular_sharding = sorted(frequency_sharing, key=lambda k: frequency_sharing[k])[-1:-6:-1]"
   ]
  },
  {
   "cell_type": "code",
   "execution_count": 109,
   "metadata": {
    "collapsed": false
   },
   "outputs": [
    {
     "name": "stdout",
     "output_type": "stream",
     "text": [
      "4\n"
     ]
    }
   ],
   "source": [
    "subject_sharding_time_dict = dict() #словарь следующего вида {subject: {sharding: time}}\n",
    "for subject in most_active_subjects:\n",
    "    subject_sharding_time_dict[subject] = dict()\n",
    "    for ond in outer_distance_sequence_dict[subject]:\n",
    "        id_od = ond.key_code_from * keys_number + ond.key_code_to\n",
    "        if id_od in most_popular_sharding:\n",
    "            if id_od not in subject_sharding_time_dict[subject].keys():\n",
    "                subject_sharding_time_dict[subject][id_od] = list()\n",
    "            subject_sharding_time_dict[subject][id_od].append(ond.distance)\n",
    "min_len = list()\n",
    "for key in subject_sharding_time_dict.keys():\n",
    "    for _key in subject_sharding_time_dict[key].keys():\n",
    "        min_len.append(len(subject_sharding_time_dict[key][_key]))\n",
    "min_len = min(min_len) # сделал так, потому что могу.\n",
    "print(min_len)\n",
    "\n",
    "features_s = list()\n",
    "labels_s = list()\n",
    "for subject in subject_sharding_time_dict.keys():\n",
    "    for i in range(min_len):\n",
    "        sample = list()\n",
    "        for sharding in most_popular_sharding:\n",
    "            sample.append(subject_sharding_time_dict[subject][sharding][i])\n",
    "        features_s.append(sample)\n",
    "        labels_s.append(subject)"
   ]
  },
  {
   "cell_type": "code",
   "execution_count": 110,
   "metadata": {
    "collapsed": false
   },
   "outputs": [
    {
     "name": "stdout",
     "output_type": "stream",
     "text": [
      "0.533333333333\n"
     ]
    }
   ],
   "source": [
    "features_s = np.array(features_s, dtype='float64')\n",
    "labels_s = np.array(labels_s)\n",
    "\n",
    "classifier_knn = KNeighborsClassifier(n_neighbors=3)\n",
    "classifier_knn = Pipeline([('norm', StandardScaler()), ('knn', classifier_knn)])\n",
    "\n",
    "means_s = list()\n",
    "kf_s = KFold(len(features_s), n_folds=5, shuffle=True)\n",
    "for training, testing in kf_s:\n",
    "    classifier_knn.fit(features_s[training], labels_s[training])\n",
    "    prediction = classifier_knn.predict(features_s[testing])\n",
    "    means_s.append( np.mean(prediction==labels_s[testing]) )\n",
    "print(np.mean(means_s))"
   ]
  },
  {
   "cell_type": "code",
   "execution_count": 111,
   "metadata": {
    "collapsed": false
   },
   "outputs": [
    {
     "name": "stdout",
     "output_type": "stream",
     "text": [
      "0.533333333333\n"
     ]
    }
   ],
   "source": [
    "classifier_svc = SVC()\n",
    "classifier_svc = Pipeline([('norm', StandardScaler()), ('knn', classifier_svc)])\n",
    "\n",
    "means_s = list()\n",
    "kf_s = KFold(len(features_s), n_folds=5, shuffle=True)\n",
    "for training, testing in kf_s:\n",
    "    classifier_svc.fit(features_s[training], labels_s[training])\n",
    "    prediction = classifier_svc.predict(features_s[testing])\n",
    "    means_s.append( np.mean(prediction==labels_s[testing]) )\n",
    "print(np.mean(means_s))"
   ]
  },
  {
   "cell_type": "code",
   "execution_count": 92,
   "metadata": {
    "collapsed": false
   },
   "outputs": [
    {
     "name": "stdout",
     "output_type": "stream",
     "text": [
      "0.504679802956\n"
     ]
    }
   ],
   "source": [
    "from sklearn.ensemble import VotingClassifier\n",
    "eclf = VotingClassifier(estimators=[('svc', SVC()), ('knn3', KNeighborsClassifier(n_neighbors=3)), ('knn5', KNeighborsClassifier(n_neighbors=5))], voting='hard')\n",
    "\n",
    "means_s = list()\n",
    "kf_s = KFold(len(features_s), n_folds=5, shuffle=True)\n",
    "for training, testing in kf_s:\n",
    "    eclf.fit(features_s[training], labels_s[training])\n",
    "    prediction = eclf.predict(features_s[testing])\n",
    "    means_s.append( np.mean(prediction==labels_s[testing]) )\n",
    "print(np.mean(means_s))\n",
    "                                    "
   ]
  },
  {
   "cell_type": "markdown",
   "metadata": {},
   "source": [
    "## Диграфы и триграфы"
   ]
  },
  {
   "cell_type": "code",
   "execution_count": 112,
   "metadata": {
    "collapsed": true
   },
   "outputs": [],
   "source": [
    "from chapter_two.utils import get_digraphs_sequence, get_threegraphs_sequence\n",
    "\n",
    "digraph_sequence_dict = dict()\n",
    "\n",
    "for subject in most_active_subjects:\n",
    "    digraph_sequence_dict[subject] = get_digraphs_sequence(\n",
    "        provider.get_messages_by_subject_id(\n",
    "            subject\n",
    "        )\n",
    "    )"
   ]
  },
  {
   "cell_type": "code",
   "execution_count": 113,
   "metadata": {
    "collapsed": true
   },
   "outputs": [],
   "source": [
    "features = list()\n",
    "labels = list()\n",
    "\n",
    "for subject in digraph_sequence_dict.keys():\n",
    "    features += digraph_sequence_dict[subject]\n",
    "    labels += [subject]*len(digraph_sequence_dict[subject])"
   ]
  },
  {
   "cell_type": "code",
   "execution_count": 115,
   "metadata": {
    "collapsed": false
   },
   "outputs": [
    {
     "name": "stderr",
     "output_type": "stream",
     "text": [
      "/usr/local/lib/python3.4/dist-packages/sklearn/pipeline.py:165: DataConversionWarning: A column-vector y was passed when a 1d array was expected. Please change the shape of y to (n_samples, ), for example using ravel().\n",
      "  self.steps[-1][-1].fit(Xt, y, **fit_params)\n",
      "/usr/local/lib/python3.4/dist-packages/sklearn/pipeline.py:165: DataConversionWarning: A column-vector y was passed when a 1d array was expected. Please change the shape of y to (n_samples, ), for example using ravel().\n",
      "  self.steps[-1][-1].fit(Xt, y, **fit_params)\n",
      "/usr/local/lib/python3.4/dist-packages/sklearn/pipeline.py:165: DataConversionWarning: A column-vector y was passed when a 1d array was expected. Please change the shape of y to (n_samples, ), for example using ravel().\n",
      "  self.steps[-1][-1].fit(Xt, y, **fit_params)\n",
      "/usr/local/lib/python3.4/dist-packages/sklearn/pipeline.py:165: DataConversionWarning: A column-vector y was passed when a 1d array was expected. Please change the shape of y to (n_samples, ), for example using ravel().\n",
      "  self.steps[-1][-1].fit(Xt, y, **fit_params)\n"
     ]
    },
    {
     "name": "stdout",
     "output_type": "stream",
     "text": [
      "9239\n",
      "0.375602415044\n"
     ]
    },
    {
     "name": "stderr",
     "output_type": "stream",
     "text": [
      "/usr/local/lib/python3.4/dist-packages/sklearn/pipeline.py:165: DataConversionWarning: A column-vector y was passed when a 1d array was expected. Please change the shape of y to (n_samples, ), for example using ravel().\n",
      "  self.steps[-1][-1].fit(Xt, y, **fit_params)\n"
     ]
    }
   ],
   "source": [
    "print(len(features))\n",
    "features_s = np.array(features, dtype='float64').reshape(-1, 1)\n",
    "labels_s = np.array(labels).reshape(-1, 1)\n",
    "\n",
    "classifier_knn = KNeighborsClassifier(n_neighbors=3)\n",
    "classifier_knn = Pipeline([('norm', StandardScaler()), ('knn', classifier_knn)])\n",
    "\n",
    "means_s = list()\n",
    "kf_s = KFold(len(features_s), n_folds=5, shuffle=True)\n",
    "for training, testing in kf_s:\n",
    "    classifier_knn.fit(features_s[training], labels_s[training])\n",
    "    prediction = classifier_knn.predict(features_s[testing])\n",
    "    means_s.append( np.mean(prediction==labels_s[testing]) )\n",
    "print(np.mean(means_s))"
   ]
  },
  {
   "cell_type": "code",
   "execution_count": 116,
   "metadata": {
    "collapsed": false
   },
   "outputs": [
    {
     "name": "stderr",
     "output_type": "stream",
     "text": [
      "/usr/local/lib/python3.4/dist-packages/sklearn/svm/base.py:514: DataConversionWarning: A column-vector y was passed when a 1d array was expected. Please change the shape of y to (n_samples, ), for example using ravel().\n",
      "  y_ = column_or_1d(y, warn=True)\n",
      "/usr/local/lib/python3.4/dist-packages/sklearn/svm/base.py:514: DataConversionWarning: A column-vector y was passed when a 1d array was expected. Please change the shape of y to (n_samples, ), for example using ravel().\n",
      "  y_ = column_or_1d(y, warn=True)\n",
      "/usr/local/lib/python3.4/dist-packages/sklearn/svm/base.py:514: DataConversionWarning: A column-vector y was passed when a 1d array was expected. Please change the shape of y to (n_samples, ), for example using ravel().\n",
      "  y_ = column_or_1d(y, warn=True)\n",
      "/usr/local/lib/python3.4/dist-packages/sklearn/svm/base.py:514: DataConversionWarning: A column-vector y was passed when a 1d array was expected. Please change the shape of y to (n_samples, ), for example using ravel().\n",
      "  y_ = column_or_1d(y, warn=True)\n"
     ]
    },
    {
     "name": "stdout",
     "output_type": "stream",
     "text": [
      "0.424773780905\n"
     ]
    },
    {
     "name": "stderr",
     "output_type": "stream",
     "text": [
      "/usr/local/lib/python3.4/dist-packages/sklearn/svm/base.py:514: DataConversionWarning: A column-vector y was passed when a 1d array was expected. Please change the shape of y to (n_samples, ), for example using ravel().\n",
      "  y_ = column_or_1d(y, warn=True)\n"
     ]
    }
   ],
   "source": [
    "classifier_svc = SVC()\n",
    "classifier_svc = Pipeline([('norm', StandardScaler()), ('knn', classifier_svc)])\n",
    "\n",
    "means_s = list()\n",
    "kf_s = KFold(len(features_s), n_folds=5, shuffle=True)\n",
    "for training, testing in kf_s:\n",
    "    classifier_svc.fit(features_s[training], labels_s[training])\n",
    "    prediction = classifier_svc.predict(features_s[testing])\n",
    "    means_s.append( np.mean(prediction==labels_s[testing]) )\n",
    "print(np.mean(means_s))"
   ]
  },
  {
   "cell_type": "code",
   "execution_count": 119,
   "metadata": {
    "collapsed": true
   },
   "outputs": [],
   "source": [
    "threegraphs_sequence_dict = dict()\n",
    "\n",
    "for subject in most_active_subjects:\n",
    "    threegraphs_sequence_dict[subject] = get_threegraphs_sequence(\n",
    "        provider.get_messages_by_subject_id(\n",
    "            subject\n",
    "        )\n",
    "    )"
   ]
  },
  {
   "cell_type": "code",
   "execution_count": 120,
   "metadata": {
    "collapsed": true
   },
   "outputs": [],
   "source": [
    "features = list()\n",
    "labels = list()\n",
    "\n",
    "for subject in threegraphs_sequence_dict.keys():\n",
    "    features += threegraphs_sequence_dict[subject]\n",
    "    labels += [subject]*len(threegraphs_sequence_dict[subject])"
   ]
  },
  {
   "cell_type": "code",
   "execution_count": 121,
   "metadata": {
    "collapsed": false
   },
   "outputs": [
    {
     "name": "stderr",
     "output_type": "stream",
     "text": [
      "/usr/local/lib/python3.4/dist-packages/sklearn/pipeline.py:165: DataConversionWarning: A column-vector y was passed when a 1d array was expected. Please change the shape of y to (n_samples, ), for example using ravel().\n",
      "  self.steps[-1][-1].fit(Xt, y, **fit_params)\n",
      "/usr/local/lib/python3.4/dist-packages/sklearn/pipeline.py:165: DataConversionWarning: A column-vector y was passed when a 1d array was expected. Please change the shape of y to (n_samples, ), for example using ravel().\n",
      "  self.steps[-1][-1].fit(Xt, y, **fit_params)\n",
      "/usr/local/lib/python3.4/dist-packages/sklearn/pipeline.py:165: DataConversionWarning: A column-vector y was passed when a 1d array was expected. Please change the shape of y to (n_samples, ), for example using ravel().\n",
      "  self.steps[-1][-1].fit(Xt, y, **fit_params)\n",
      "/usr/local/lib/python3.4/dist-packages/sklearn/pipeline.py:165: DataConversionWarning: A column-vector y was passed when a 1d array was expected. Please change the shape of y to (n_samples, ), for example using ravel().\n",
      "  self.steps[-1][-1].fit(Xt, y, **fit_params)\n"
     ]
    },
    {
     "name": "stdout",
     "output_type": "stream",
     "text": [
      "9112\n",
      "0.379338714359\n"
     ]
    },
    {
     "name": "stderr",
     "output_type": "stream",
     "text": [
      "/usr/local/lib/python3.4/dist-packages/sklearn/pipeline.py:165: DataConversionWarning: A column-vector y was passed when a 1d array was expected. Please change the shape of y to (n_samples, ), for example using ravel().\n",
      "  self.steps[-1][-1].fit(Xt, y, **fit_params)\n"
     ]
    }
   ],
   "source": [
    "print(len(features))\n",
    "features_s = np.array(features, dtype='float64').reshape(-1, 1)\n",
    "labels_s = np.array(labels).reshape(-1, 1)\n",
    "\n",
    "classifier_knn = KNeighborsClassifier(n_neighbors=3)\n",
    "classifier_knn = Pipeline([('norm', StandardScaler()), ('knn', classifier_knn)])\n",
    "\n",
    "means_s = list()\n",
    "kf_s = KFold(len(features_s), n_folds=5, shuffle=True)\n",
    "for training, testing in kf_s:\n",
    "    classifier_knn.fit(features_s[training], labels_s[training])\n",
    "    prediction = classifier_knn.predict(features_s[testing])\n",
    "    means_s.append( np.mean(prediction==labels_s[testing]) )\n",
    "print(np.mean(means_s))"
   ]
  },
  {
   "cell_type": "code",
   "execution_count": 122,
   "metadata": {
    "collapsed": false
   },
   "outputs": [
    {
     "name": "stderr",
     "output_type": "stream",
     "text": [
      "/usr/local/lib/python3.4/dist-packages/sklearn/svm/base.py:514: DataConversionWarning: A column-vector y was passed when a 1d array was expected. Please change the shape of y to (n_samples, ), for example using ravel().\n",
      "  y_ = column_or_1d(y, warn=True)\n",
      "/usr/local/lib/python3.4/dist-packages/sklearn/svm/base.py:514: DataConversionWarning: A column-vector y was passed when a 1d array was expected. Please change the shape of y to (n_samples, ), for example using ravel().\n",
      "  y_ = column_or_1d(y, warn=True)\n",
      "/usr/local/lib/python3.4/dist-packages/sklearn/svm/base.py:514: DataConversionWarning: A column-vector y was passed when a 1d array was expected. Please change the shape of y to (n_samples, ), for example using ravel().\n",
      "  y_ = column_or_1d(y, warn=True)\n",
      "/usr/local/lib/python3.4/dist-packages/sklearn/svm/base.py:514: DataConversionWarning: A column-vector y was passed when a 1d array was expected. Please change the shape of y to (n_samples, ), for example using ravel().\n",
      "  y_ = column_or_1d(y, warn=True)\n"
     ]
    },
    {
     "name": "stdout",
     "output_type": "stream",
     "text": [
      "0.418039336989\n"
     ]
    },
    {
     "name": "stderr",
     "output_type": "stream",
     "text": [
      "/usr/local/lib/python3.4/dist-packages/sklearn/svm/base.py:514: DataConversionWarning: A column-vector y was passed when a 1d array was expected. Please change the shape of y to (n_samples, ), for example using ravel().\n",
      "  y_ = column_or_1d(y, warn=True)\n"
     ]
    }
   ],
   "source": [
    "classifier_svc = SVC()\n",
    "classifier_svc = Pipeline([('norm', StandardScaler()), ('knn', classifier_svc)])\n",
    "\n",
    "means_s = list()\n",
    "kf_s = KFold(len(features_s), n_folds=5, shuffle=True)\n",
    "for training, testing in kf_s:\n",
    "    classifier_svc.fit(features_s[training], labels_s[training])\n",
    "    prediction = classifier_svc.predict(features_s[testing])\n",
    "    means_s.append( np.mean(prediction==labels_s[testing]) )\n",
    "print(np.mean(means_s))"
   ]
  }
 ],
 "metadata": {
  "kernelspec": {
   "display_name": "Python 3",
   "language": "python",
   "name": "python3"
  },
  "language_info": {
   "codemirror_mode": {
    "name": "ipython",
    "version": 3
   },
   "file_extension": ".py",
   "mimetype": "text/x-python",
   "name": "python",
   "nbconvert_exporter": "python",
   "pygments_lexer": "ipython3",
   "version": "3.4.3"
  }
 },
 "nbformat": 4,
 "nbformat_minor": 0
}
